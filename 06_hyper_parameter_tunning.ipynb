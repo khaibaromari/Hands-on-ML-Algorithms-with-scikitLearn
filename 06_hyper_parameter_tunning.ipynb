{
 "cells": [
  {
   "cell_type": "code",
   "execution_count": null,
   "metadata": {},
   "outputs": [],
   "source": [
    "import numpy as np\n",
    "import pandas as pd\n",
    "from sklearn.linear_model import Lasso, Ridge\n",
    "from sklearn.model_selection import train_test_split\n",
    "from sklearn.model_selection import KFold\n",
    "from sklearn.model_selection import GridSearchCV, RandomizedSearchCV"
   ]
  },
  {
   "cell_type": "code",
   "execution_count": null,
   "metadata": {},
   "outputs": [],
   "source": [
    "# reading the data set\n",
    "df = pd.read_excel(\"input/palmer_penguins.xlsx\")\n",
    "df.head()"
   ]
  },
  {
   "cell_type": "code",
   "execution_count": null,
   "metadata": {},
   "outputs": [],
   "source": [
    "# remove rows containing NaN\n",
    "print(df.shape)\n",
    "df.dropna(inplace=True)\n",
    "print(df.shape)"
   ]
  },
  {
   "cell_type": "code",
   "execution_count": null,
   "metadata": {},
   "outputs": [],
   "source": [
    "# recode target variable's values\n",
    "df['sex_recoded'] = df.sex.replace({'female' : 0 , 'male' : 1})\n",
    "print(df.sex_recoded.unique())"
   ]
  },
  {
   "cell_type": "code",
   "execution_count": null,
   "metadata": {},
   "outputs": [],
   "source": [
    "# split the data into Predictor (X) and Target (y) variables\n",
    "X = df[['bill_length_mm', 'flipper_length_mm']].values\n",
    "y = df.sex_recoded.values.reshape(-1,1)\n",
    "X_train, X_test, y_train, y_test = train_test_split(X, y, test_size=0.4, random_state=123)"
   ]
  },
  {
   "cell_type": "code",
   "execution_count": null,
   "metadata": {},
   "outputs": [],
   "source": [
    "# instantiate the cross validation object\n",
    "kf = KFold(n_splits=5, shuffle=True, random_state=123)"
   ]
  },
  {
   "cell_type": "code",
   "execution_count": null,
   "metadata": {},
   "outputs": [],
   "source": [
    "# tunning the hyper-parameter using Grid Search CV\n",
    "param_grid = {'alpha':np.linspace(0.00001, 1, 20)}\n",
    "lasso_cv = GridSearchCV(Lasso(), param_grid, cv=kf)\n",
    "\n",
    "# fit the train data to the model\n",
    "lasso_cv.fit(X_train, y_train)\n",
    "\n",
    "# print the best parameters and best score\n",
    "print('Tunned parameters: {}'.format(lasso_cv.best_params_))\n",
    "print('Best score: {}'.format(lasso_cv.best_score_))"
   ]
  },
  {
   "cell_type": "code",
   "execution_count": null,
   "metadata": {},
   "outputs": [],
   "source": [
    "# tunning the hyper-parameter using Randomized Search CV\n",
    "ridge_cv = RandomizedSearchCV(Ridge(), param_grid, cv=kf, n_iter=2)\n",
    "\n",
    "# fit the train data to the model\n",
    "ridge_cv.fit(X_train, y_train)\n",
    "\n",
    "# print the best parameters and best score\n",
    "print('Tunned parameters: {}'.format(ridge_cv.best_params_))\n",
    "print('Tunned parameters: {}'.format(ridge_cv.best_score_))"
   ]
  },
  {
   "cell_type": "code",
   "execution_count": null,
   "metadata": {},
   "outputs": [],
   "source": []
  }
 ],
 "metadata": {
  "kernelspec": {
   "display_name": "Python 3",
   "language": "python",
   "name": "python3"
  },
  "language_info": {
   "codemirror_mode": {
    "name": "ipython",
    "version": 3
   },
   "file_extension": ".py",
   "mimetype": "text/x-python",
   "name": "python",
   "nbconvert_exporter": "python",
   "pygments_lexer": "ipython3",
   "version": "3.11.4"
  }
 },
 "nbformat": 4,
 "nbformat_minor": 2
}
